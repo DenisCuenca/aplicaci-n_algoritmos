{
 "cells": [
  {
   "cell_type": "code",
   "execution_count": 2,
   "id": "4c03410f",
   "metadata": {},
   "outputs": [
    {
     "name": "stdout",
     "output_type": "stream",
     "text": [
      "TASS2019_country_CR_train.xml  TASS2019_country_PE_train.xml\r\n",
      "TASS2019_country_MX_train.xml  TASS2019_country_UY_train.xml\r\n"
     ]
    }
   ],
   "source": [
    "ls datos/data_tmp/"
   ]
  },
  {
   "cell_type": "code",
   "execution_count": 55,
   "id": "fa4f6117",
   "metadata": {},
   "outputs": [],
   "source": [
    "import xml.etree.ElementTree as Xet "
   ]
  },
  {
   "cell_type": "code",
   "execution_count": 56,
   "id": "e1b4fe7b",
   "metadata": {},
   "outputs": [],
   "source": [
    "cr = Xet.parse('datos/data_tmp/TASS2019_country_CR_train.xml')\n",
    "mx = Xet.parse('datos/data_tmp/TASS2019_country_MX_train.xml')\n",
    "pe = Xet.parse('datos/data_tmp/TASS2019_country_PE_train.xml')\n",
    "uy = Xet.parse('datos/data_tmp/TASS2019_country_UY_train.xml')"
   ]
  },
  {
   "cell_type": "code",
   "execution_count": 57,
   "id": "0d0a1b49",
   "metadata": {},
   "outputs": [],
   "source": [
    "cols = [\"content\", \"sentiment\"] \n",
    "\n",
    "rows = [] \n",
    "\n",
    "l = [cr, mx, pe, uy]"
   ]
  },
  {
   "cell_type": "code",
   "execution_count": 58,
   "id": "8885aeab",
   "metadata": {},
   "outputs": [],
   "source": [
    "outs = []\n",
    "\n",
    "for i in l:\n",
    "    \n",
    "\n",
    "    root = i.getroot() \n",
    "\n",
    "    for i in root: \n",
    "        cont = i.find(\"content\").text \n",
    "        sent = i.find(\"sentiment\").find('polarity').findtext('value')\n",
    "\n",
    "\n",
    "        rows.append({\"content\": cont, \n",
    "                     \"sentiment\": sent\n",
    "                    }) \n",
    "\n",
    "    df = pd.DataFrame(rows, columns=cols) \n",
    "    \n",
    "    outs.append(df)\n",
    "\n",
    "    "
   ]
  },
  {
   "cell_type": "code",
   "execution_count": 62,
   "id": "b38082e4",
   "metadata": {},
   "outputs": [],
   "source": [
    "outs[0].to_csv('datos/data_cleaned/cr.csv')\n",
    "outs[1].to_csv('datos/data_cleaned/mx.csv')\n",
    "outs[2].to_csv('datos/data_cleaned/pe.csv')\n",
    "outs[3].to_csv('datos/data_cleaned/uy.csv')"
   ]
  },
  {
   "cell_type": "code",
   "execution_count": null,
   "id": "bde7ea85",
   "metadata": {},
   "outputs": [],
   "source": []
  }
 ],
 "metadata": {
  "kernelspec": {
   "display_name": "Python 3 (ipykernel)",
   "language": "python",
   "name": "python3"
  },
  "language_info": {
   "codemirror_mode": {
    "name": "ipython",
    "version": 3
   },
   "file_extension": ".py",
   "mimetype": "text/x-python",
   "name": "python",
   "nbconvert_exporter": "python",
   "pygments_lexer": "ipython3",
   "version": "3.8.10"
  }
 },
 "nbformat": 4,
 "nbformat_minor": 5
}
