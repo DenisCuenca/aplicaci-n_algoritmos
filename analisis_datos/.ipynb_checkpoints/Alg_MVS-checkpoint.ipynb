{
 "cells": [
  {
   "cell_type": "code",
   "execution_count": 3,
   "id": "6aed1374",
   "metadata": {},
   "outputs": [
    {
     "name": "stdout",
     "output_type": "stream",
     "text": [
      "cr.csv  mx.csv  pe.csv  uy.csv\r\n"
     ]
    }
   ],
   "source": [
    "ls datos/data_cleaned"
   ]
  },
  {
   "cell_type": "code",
   "execution_count": 5,
   "id": "4ab26667",
   "metadata": {},
   "outputs": [],
   "source": [
    "# Tratamiento de datos\n",
    "# ==============================================================================\n",
    "import pandas as pd\n",
    "import numpy as np\n"
   ]
  },
  {
   "cell_type": "code",
   "execution_count": 18,
   "id": "664485b4",
   "metadata": {},
   "outputs": [],
   "source": [
    "testData = pd.read_csv('datos/data_cleaned/mx.csv')\n",
    "trainData = pd.read_csv('datos/data_cleaned/pe.csv')"
   ]
  },
  {
   "cell_type": "code",
   "execution_count": 21,
   "id": "0fc0c286",
   "metadata": {},
   "outputs": [
    {
     "data": {
      "text/plain": [
       "Index(['Unnamed: 0', 'content', 'sentiment'], dtype='object')"
      ]
     },
     "execution_count": 21,
     "metadata": {},
     "output_type": "execute_result"
    }
   ],
   "source": [
    "testData.columns"
   ]
  },
  {
   "cell_type": "code",
   "execution_count": 29,
   "id": "e42b258f",
   "metadata": {},
   "outputs": [
    {
     "data": {
      "text/plain": [
       "N       815\n",
       "P       533\n",
       "NONE    248\n",
       "NEU     170\n",
       "Name: sentiment, dtype: int64"
      ]
     },
     "execution_count": 29,
     "metadata": {},
     "output_type": "execute_result"
    }
   ],
   "source": [
    "testData['sentiment'].value_counts()"
   ]
  },
  {
   "cell_type": "code",
   "execution_count": 22,
   "id": "7063c8f8",
   "metadata": {},
   "outputs": [],
   "source": [
    "from sklearn.feature_extraction.text import TfidfVectorizer\n",
    "\n",
    "# Create feature vectors\n",
    "\n",
    "vectorizer = TfidfVectorizer(min_df = 5,\n",
    "                             max_df = 0.8,\n",
    "                             sublinear_tf = True,\n",
    "                             use_idf = True)\n",
    "train_vectors = vectorizer.fit_transform(trainData['content'])\n",
    "test_vectors = vectorizer.transform(testData['content'])"
   ]
  },
  {
   "cell_type": "code",
   "execution_count": 25,
   "id": "d9829ee9",
   "metadata": {},
   "outputs": [
    {
     "name": "stdout",
     "output_type": "stream",
     "text": [
      "Training time: 1.259057s; Prediction time: 0.513781s\n"
     ]
    }
   ],
   "source": [
    "import time\n",
    "from sklearn import svm\n",
    "from sklearn.metrics import classification_report\n",
    "\n",
    "# Perform classification with SVM, kernel=linear\n",
    "\n",
    "classifier_linear = svm.SVC(kernel='linear')\n",
    "t0 = time.time()\n",
    "classifier_linear.fit(train_vectors, trainData['sentiment'])\n",
    "t1 = time.time()\n",
    "prediction_linear = classifier_linear.predict(test_vectors)\n",
    "t2 = time.time()\n",
    "time_linear_train = t1-t0\n",
    "time_linear_predict = t2-t1\n",
    "# results\n",
    "print(\"Training time: %fs; Prediction time: %fs\" % (time_linear_train, time_linear_predict))\n",
    "report = classification_report(testData['sentiment'], prediction_linear, output_dict=True)\n"
   ]
  },
  {
   "cell_type": "code",
   "execution_count": 30,
   "id": "32ddb401",
   "metadata": {},
   "outputs": [
    {
     "name": "stdout",
     "output_type": "stream",
     "text": [
      "positive:  {'precision': 0.8112449799196787, 'recall': 0.7579737335834896, 'f1-score': 0.7837051406401552, 'support': 533}\n",
      "negative:  {'precision': 0.7422266800401204, 'recall': 0.9079754601226994, 'f1-score': 0.8167770419426048, 'support': 815}\n"
     ]
    }
   ],
   "source": [
    "print('positive: ', report['P'])\n",
    "print('negative: ', report['N'])\n"
   ]
  },
  {
   "cell_type": "code",
   "execution_count": 35,
   "id": "602485b0",
   "metadata": {},
   "outputs": [
    {
     "name": "stdout",
     "output_type": "stream",
     "text": [
      "['P']\n"
     ]
    }
   ],
   "source": [
    "review = \"\"\"soy feliz cuando te veo\"\"\"\n",
    "\n",
    "review_vector = vectorizer.transform([review]) # vectorizing\n",
    "print(classifier_linear.predict(review_vector))"
   ]
  },
  {
   "cell_type": "code",
   "execution_count": 41,
   "id": "ebce61cc",
   "metadata": {},
   "outputs": [],
   "source": [
    "import pickle\n",
    "\n",
    "# pickling the vectorizer\n",
    "pickle.dump(vectorizer, open('modelos/vectorizerMVS.sav', 'wb'))\n",
    "\n",
    "# pickling the model\n",
    "pickle.dump(classifier_linear, open('modelos/classifierMVS.sav', 'wb'))"
   ]
  },
  {
   "cell_type": "code",
   "execution_count": null,
   "id": "bc4212c7",
   "metadata": {},
   "outputs": [],
   "source": []
  }
 ],
 "metadata": {
  "kernelspec": {
   "display_name": "Python 3 (ipykernel)",
   "language": "python",
   "name": "python3"
  },
  "language_info": {
   "codemirror_mode": {
    "name": "ipython",
    "version": 3
   },
   "file_extension": ".py",
   "mimetype": "text/x-python",
   "name": "python",
   "nbconvert_exporter": "python",
   "pygments_lexer": "ipython3",
   "version": "3.8.10"
  }
 },
 "nbformat": 4,
 "nbformat_minor": 5
}
