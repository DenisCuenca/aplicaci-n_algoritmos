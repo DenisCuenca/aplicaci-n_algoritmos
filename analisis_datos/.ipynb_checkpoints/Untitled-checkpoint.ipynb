{
 "cells": [
  {
   "cell_type": "code",
   "execution_count": 1,
   "id": "ee659e00",
   "metadata": {},
   "outputs": [],
   "source": [
    "import pandas as pd\n",
    "import matplotlib.pyplot as plt\n",
    "import io\n",
    "import base64"
   ]
  },
  {
   "cell_type": "code",
   "execution_count": 2,
   "id": "92a0e84d",
   "metadata": {},
   "outputs": [
    {
     "data": {
      "text/plain": [
       "<Figure size 432x288 with 0 Axes>"
      ]
     },
     "metadata": {},
     "output_type": "display_data"
    }
   ],
   "source": [
    "plt.clf() "
   ]
  },
  {
   "cell_type": "code",
   "execution_count": 5,
   "id": "854e19fa",
   "metadata": {},
   "outputs": [
    {
     "name": "stdout",
     "output_type": "stream",
     "text": [
      "cr.csv  mx.csv  pe.csv  uy.csv\r\n"
     ]
    }
   ],
   "source": [
    "ls datos/data_cleaned/ "
   ]
  },
  {
   "cell_type": "code",
   "execution_count": 6,
   "id": "3894e52e",
   "metadata": {},
   "outputs": [],
   "source": [
    "df = pd.read_csv('datos/data_cleaned/mx.csv')"
   ]
  },
  {
   "cell_type": "code",
   "execution_count": 12,
   "id": "9eb69b79",
   "metadata": {},
   "outputs": [
    {
     "data": {
      "text/plain": [
       "<AxesSubplot:>"
      ]
     },
     "execution_count": 12,
     "metadata": {},
     "output_type": "execute_result"
    },
    {
     "data": {
      "image/png": "[encoded data removed]",
      "text/plain": [
       "<Figure size 432x288 with 1 Axes>"
      ]
     },
     "metadata": {
      "needs_background": "light"
     },
     "output_type": "display_data"
    }
   ],
   "source": [
    "df['sentiment'].value_counts().plot(kind='bar')"
   ]
  },
  {
   "cell_type": "code",
   "execution_count": 20,
   "id": "2e4a555a",
   "metadata": {},
   "outputs": [],
   "source": [
    "img = io.BytesIO()\n",
    "datos = df['sentiment'].value_counts().head(10).tolist()"
   ]
  },
  {
   "cell_type": "code",
   "execution_count": 21,
   "id": "d8e24904",
   "metadata": {},
   "outputs": [
    {
     "data": {
      "text/plain": [
       "[815, 533, 248, 170]"
      ]
     },
     "execution_count": 21,
     "metadata": {},
     "output_type": "execute_result"
    }
   ],
   "source": [
    "datos"
   ]
  },
  {
   "cell_type": "code",
   "execution_count": 22,
   "id": "3c976997",
   "metadata": {},
   "outputs": [
    {
     "data": {
      "text/plain": [
       "([<matplotlib.patches.Wedge at 0x7fb4de077100>,\n",
       "  <matplotlib.patches.Wedge at 0x7fb4de077610>,\n",
       "  <matplotlib.patches.Wedge at 0x7fb4de077d30>,\n",
       "  <matplotlib.patches.Wedge at 0x7fb4de0854c0>],\n",
       " [Text(0.13273981189574272, 1.0919616029595012, ''),\n",
       "  Text(-0.8368912740134483, -0.713871834071178, ''),\n",
       "  Text(0.5511292378237044, -0.9519750853965995, ''),\n",
       "  Text(1.0500808788990064, -0.3276128015976947, '')],\n",
       " [Text(0.0724035337613142, 0.5956154197960914, '46.1 %'),\n",
       "  Text(-0.4564861494618808, -0.3893846367660971, '30.2 %'),\n",
       "  Text(0.3006159479038387, -0.5192591374890542, '14.0 %'),\n",
       "  Text(0.572771388490367, -0.1786978917805607, '9.6 %')])"
      ]
     },
     "execution_count": 22,
     "metadata": {},
     "output_type": "execute_result"
    },
    {
     "data": {
      "image/png": "[encoded data removed]",
      "text/plain": [
       "<Figure size 432x288 with 1 Axes>"
      ]
     },
     "metadata": {},
     "output_type": "display_data"
    }
   ],
   "source": [
    "plt.pie(datos, autopct=\"%0.1f %%\")"
   ]
  },
  {
   "cell_type": "code",
   "execution_count": 23,
   "id": "5d326c43",
   "metadata": {},
   "outputs": [],
   "source": [
    "img.seek(0)\n",
    "plot_url = base64.b64encode(img.getvalue()).decode()"
   ]
  },
  {
   "cell_type": "code",
   "execution_count": 24,
   "id": "b2055721",
   "metadata": {},
   "outputs": [
    {
     "data": {
      "text/plain": [
       "''"
      ]
     },
     "execution_count": 24,
     "metadata": {},
     "output_type": "execute_result"
    }
   ],
   "source": [
    "plot_url"
   ]
  },
  {
   "cell_type": "code",
   "execution_count": 25,
   "id": "6a25c85e",
   "metadata": {},
   "outputs": [
    {
     "data": {
      "text/plain": [
       "([<matplotlib.patches.Wedge at 0x7fb4de04c280>,\n",
       "  <matplotlib.patches.Wedge at 0x7fb4de04c880>,\n",
       "  <matplotlib.patches.Wedge at 0x7fb4de04cfa0>,\n",
       "  <matplotlib.patches.Wedge at 0x7fb4de059700>],\n",
       " [Text(0.13273981189574272, 1.0919616029595012, ''),\n",
       "  Text(-0.8368912740134483, -0.713871834071178, ''),\n",
       "  Text(0.5511292378237044, -0.9519750853965995, ''),\n",
       "  Text(1.0500808788990064, -0.3276128015976947, '')],\n",
       " [Text(0.0724035337613142, 0.5956154197960914, '46.1 %'),\n",
       "  Text(-0.4564861494618808, -0.3893846367660971, '30.2 %'),\n",
       "  Text(0.3006159479038387, -0.5192591374890542, '14.0 %'),\n",
       "  Text(0.572771388490367, -0.1786978917805607, '9.6 %')])"
      ]
     },
     "execution_count": 25,
     "metadata": {},
     "output_type": "execute_result"
    },
    {
     "data": {
      "image/png": "[encoded data removed]",
      "text/plain": [
       "<Figure size 432x288 with 1 Axes>"
      ]
     },
     "metadata": {},
     "output_type": "display_data"
    }
   ],
   "source": [
    "plt.clf() \n",
    "img = io.BytesIO()\n",
    "datos = df['sentiment'].value_counts().head(10).tolist()\n",
    "plt.pie(datos, autopct=\"%0.1f %%\")\n",
    "img.seek(0)\n",
    "plot_url = base64.b64encode(img.getvalue()).decode()"
   ]
  },
  {
   "cell_type": "code",
   "execution_count": null,
   "id": "b5323e9d",
   "metadata": {},
   "outputs": [],
   "source": []
  }
 ],
 "metadata": {
  "kernelspec": {
   "display_name": "Python 3 (ipykernel)",
   "language": "python",
   "name": "python3"
  },
  "language_info": {
   "codemirror_mode": {
    "name": "ipython",
    "version": 3
   },
   "file_extension": ".py",
   "mimetype": "text/x-python",
   "name": "python",
   "nbconvert_exporter": "python",
   "pygments_lexer": "ipython3",
   "version": "3.8.10"
  }
 },
 "nbformat": 4,
 "nbformat_minor": 5
}
