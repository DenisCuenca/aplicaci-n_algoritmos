{
 "cells": [
  {
   "cell_type": "code",
   "execution_count": 3,
   "id": "6aed1374",
   "metadata": {},
   "outputs": [
    {
     "name": "stdout",
     "output_type": "stream",
     "text": [
      "cr.csv  mx.csv  pe.csv  uy.csv\r\n"
     ]
    }
   ],
   "source": [
    "ls datos/data_cleaned"
   ]
  },
  {
   "cell_type": "code",
   "execution_count": 2,
   "id": "4ab26667",
   "metadata": {},
   "outputs": [],
   "source": [
    "# Tratamiento de datos\n",
    "# ==============================================================================\n",
    "import pandas as pd\n",
    "import numpy as np\n"
   ]
  },
  {
   "cell_type": "code",
   "execution_count": 3,
   "id": "664485b4",
   "metadata": {},
   "outputs": [],
   "source": [
    "testData = pd.read_csv('../datos/data_cleaned/mx.csv')\n",
    "trainData = pd.read_csv('../datos/data_cleaned/pe.csv')"
   ]
  },
  {
   "cell_type": "code",
   "execution_count": 4,
   "id": "0fc0c286",
   "metadata": {},
   "outputs": [
    {
     "data": {
      "text/plain": [
       "Index(['Unnamed: 0', 'content', 'sentiment'], dtype='object')"
      ]
     },
     "execution_count": 4,
     "metadata": {},
     "output_type": "execute_result"
    }
   ],
   "source": [
    "testData.columns"
   ]
  },
  {
   "cell_type": "code",
   "execution_count": 5,
   "id": "e42b258f",
   "metadata": {},
   "outputs": [
    {
     "data": {
      "text/plain": [
       "N       815\n",
       "P       533\n",
       "NONE    248\n",
       "NEU     170\n",
       "Name: sentiment, dtype: int64"
      ]
     },
     "execution_count": 5,
     "metadata": {},
     "output_type": "execute_result"
    }
   ],
   "source": [
    "testData['sentiment'].value_counts()"
   ]
  },
  {
   "cell_type": "code",
   "execution_count": 6,
   "id": "7063c8f8",
   "metadata": {},
   "outputs": [],
   "source": [
    "from sklearn.feature_extraction.text import TfidfVectorizer\n",
    "\n",
    "# Create feature vectors\n",
    "\n",
    "vectorizer = TfidfVectorizer(min_df = 5,\n",
    "                             max_df = 0.8,\n",
    "                             sublinear_tf = True,\n",
    "                             use_idf = True)\n",
    "train_vectors = vectorizer.fit_transform(trainData['content'])\n",
    "test_vectors = vectorizer.transform(testData['content'])"
   ]
  },
  {
   "cell_type": "code",
   "execution_count": 7,
   "id": "d9829ee9",
   "metadata": {},
   "outputs": [
    {
     "name": "stdout",
     "output_type": "stream",
     "text": [
      "Training time: 1.247419s; Prediction time: 0.486133s\n"
     ]
    }
   ],
   "source": [
    "import time\n",
    "from sklearn import svm\n",
    "from sklearn.metrics import classification_report\n",
    "\n",
    "# Perform classification with SVM, kernel=linear\n",
    "\n",
    "classifier_linear = svm.SVC(kernel='linear')\n",
    "t0 = time.time()\n",
    "classifier_linear.fit(train_vectors, trainData['sentiment'])\n",
    "t1 = time.time()\n",
    "prediction_linear = classifier_linear.predict(test_vectors)\n",
    "t2 = time.time()\n",
    "time_linear_train = t1-t0\n",
    "time_linear_predict = t2-t1\n",
    "# results\n",
    "print(\"Training time: %fs; Prediction time: %fs\" % (time_linear_train, time_linear_predict))\n",
    "report = classification_report(testData['sentiment'], prediction_linear, output_dict=True)\n"
   ]
  },
  {
   "cell_type": "code",
   "execution_count": 8,
   "id": "32ddb401",
   "metadata": {},
   "outputs": [
    {
     "name": "stdout",
     "output_type": "stream",
     "text": [
      "positive:  {'precision': 0.8112449799196787, 'recall': 0.7579737335834896, 'f1-score': 0.7837051406401552, 'support': 533}\n",
      "negative:  {'precision': 0.7422266800401204, 'recall': 0.9079754601226994, 'f1-score': 0.8167770419426048, 'support': 815}\n"
     ]
    }
   ],
   "source": [
    "print('positive: ', report['P'])\n",
    "print('negative: ', report['N'])\n"
   ]
  },
  {
   "cell_type": "code",
   "execution_count": 10,
   "id": "602485b0",
   "metadata": {},
   "outputs": [
    {
     "name": "stdout",
     "output_type": "stream",
     "text": [
      "['P']\n"
     ]
    },
    {
     "ename": "TypeError",
     "evalue": "unhashable type: 'list'",
     "output_type": "error",
     "traceback": [
      "\u001b[0;31m---------------------------------------------------------------------------\u001b[0m",
      "\u001b[0;31mTypeError\u001b[0m                                 Traceback (most recent call last)",
      "Input \u001b[0;32mIn [10]\u001b[0m, in \u001b[0;36m<cell line: 5>\u001b[0;34m()\u001b[0m\n\u001b[1;32m      3\u001b[0m review_vector \u001b[38;5;241m=\u001b[39m vectorizer\u001b[38;5;241m.\u001b[39mtransform([review]) \u001b[38;5;66;03m# vectorizing\u001b[39;00m\n\u001b[1;32m      4\u001b[0m \u001b[38;5;28mprint\u001b[39m(classifier_linear\u001b[38;5;241m.\u001b[39mpredict(review_vector))\n\u001b[0;32m----> 5\u001b[0m \u001b[38;5;28mprint\u001b[39m(\u001b[43mreport\u001b[49m\u001b[43m[\u001b[49m\u001b[43m[\u001b[49m\u001b[43mclassifier_linear\u001b[49m\u001b[38;5;241;43m.\u001b[39;49m\u001b[43mpredict\u001b[49m\u001b[43m(\u001b[49m\u001b[43mreview_vector\u001b[49m\u001b[43m)\u001b[49m\u001b[43m]\u001b[49m\u001b[43m]\u001b[49m)\n",
      "\u001b[0;31mTypeError\u001b[0m: unhashable type: 'list'"
     ]
    }
   ],
   "source": [
    "review = \"\"\"soy feliz cuando te veo\"\"\"\n",
    "\n",
    "review_vector = vectorizer.transform([review]) # vectorizing\n",
    "print(classifier_linear.predict(review_vector))\n"
   ]
  },
  {
   "cell_type": "code",
   "execution_count": 41,
   "id": "ebce61cc",
   "metadata": {},
   "outputs": [],
   "source": [
    "import pickle\n",
    "\n",
    "# pickling the vectorizer\n",
    "pickle.dump(vectorizer, open('modelos/vectorizerMVS.sav', 'wb'))\n",
    "\n",
    "# pickling the model\n",
    "pickle.dump(classifier_linear, open('modelos/classifierMVS.sav', 'wb'))"
   ]
  },
  {
   "cell_type": "code",
   "execution_count": null,
   "id": "bc4212c7",
   "metadata": {},
   "outputs": [],
   "source": []
  }
 ],
 "metadata": {
  "kernelspec": {
   "display_name": "Python 3 (ipykernel)",
   "language": "python",
   "name": "python3"
  },
  "language_info": {
   "codemirror_mode": {
    "name": "ipython",
    "version": 3
   },
   "file_extension": ".py",
   "mimetype": "text/x-python",
   "name": "python",
   "nbconvert_exporter": "python",
   "pygments_lexer": "ipython3",
   "version": "3.8.10"
  }
 },
 "nbformat": 4,
 "nbformat_minor": 5
}
